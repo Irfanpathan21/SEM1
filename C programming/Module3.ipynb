{
 "cells": [
  {
   "cell_type": "markdown",
   "metadata": {},
   "source": [
    "# C Programs and Algorithms\n",
    "This notebook contains C programs and algorithms for the given tasks."
   ]
  },
  {
   "cell_type": "markdown",
   "metadata": {},
   "source": [
    "### a) Write a program to extract the portion of a character string and print the extracted part."
   ]
  },
  {
   "cell_type": "code",
   "execution_count": 1,
   "metadata": {},
   "outputs": [],
   "source": [
    "/* C program to extract the portion of a string */\n",
    "#include <stdio.h>\n",
    "#include <string.h>\n",
    "\n",
    "int main() {\n",
    "    char str[] = \"Hello, world!\";\n",
    "    char subStr[10];\n",
    "    int start = 7, length = 5;\n",
    "    strncpy(subStr, str + start, length);\n",
    "    subStr[length] = '\\0';\n",
    "    printf(\"Extracted part: %s\\n\", subStr);\n",
    "    return 0;\n",
    "}"
   ]
  },
  {
   "cell_type": "markdown",
   "metadata": {},
   "source": [
    "### b) Write a program to find if the given string is a palindrome or not."
   ]
  },
  {
   "cell_type": "code",
   "execution_count": 2,
   "metadata": {},
   "outputs": [],
   "source": [
    "/* C program to check if a string is palindrome */\n",
    "#include <stdio.h>\n",
    "#include <string.h>\n",
    "\n",
    "int main() {\n",
    "    char str[100];\n",
    "    int i, len, flag = 1;\n",
    "    printf(\"Enter a string: \");\n",
    "    gets(str);\n",
    "    len = strlen(str);\n",
    "    for(i = 0; i < len / 2; i++) {\n",
    "        if(str[i] != str[len - i - 1]) {\n",
    "            flag = 0;\n",
    "            break;\n",
    "        }\n",
    "    }\n",
    "    if(flag) {\n",
    "        printf(\"The string is a palindrome.\\n\");\n",
    "    } else {\n",
    "        printf(\"The string is not a palindrome.\\n\");\n",
    "    }\n",
    "    return 0;\n",
    "}"
   ]
  },
  {
   "cell_type": "markdown",
   "metadata": {},
   "source": [
    "### c) Write a program using strlen(), strcmp() function."
   ]
  },
  {
   "cell_type": "code",
   "execution_count": 3,
   "metadata": {},
   "outputs": [],
   "source": [
    "/* C program using strlen() and strcmp() functions */\n",
    "#include <stdio.h>\n",
    "#include <string.h>\n",
    "\n",
    "int main() {\n",
    "    char str1[100], str2[100];\n",
    "    printf(\"Enter first string: \");\n",
    "    gets(str1);\n",
    "    printf(\"Enter second string: \");\n",
    "    gets(str2);\n",
    "    printf(\"Length of first string: %lu\\n\", strlen(str1));\n",
    "    printf(\"Length of second string: %lu\\n\", strlen(str2));\n",
    "    if(strcmp(str1, str2) == 0) {\n",
    "        printf(\"Both strings are equal.\\n\");\n",
    "    } else {\n",
    "        printf(\"Strings are not equal.\\n\");\n",
    "    }\n",
    "    return 0;\n",
    "}"
   ]
  },
  {
   "cell_type": "markdown",
   "metadata": {},
   "source": [
    "### d) Write a program to swap two numbers using a function. Pass the values to be swapped to this function using call-by-value method and call-by-reference method."
   ]
  },
  {
   "cell_type": "code",
   "execution_count": 4,
   "metadata": {},
   "outputs": [],
   "source": [
    "/* C program to swap numbers using call-by-value and call-by-reference */\n",
    "#include <stdio.h>\n",
    "\n",
    "void swapByValue(int a, int b) {\n",
    "    int temp = a;\n",
    "    a = b;\n",
    "    b = temp;\n",
    "    printf(\"After swap (call-by-value): a = %d, b = %d\\n\", a, b);\n",
    "}\n",
    "\n",
    "void swapByReference(int *a, int *b) {\n",
    "    int temp = *a;\n",
    "    *a = *b;\n",
    "    *b = temp;\n",
    "    printf(\"After swap (call-by-reference): a = %d, b = %d\\n\", *a, *b);\n",
    "}\n",
    "\n",
    "int main() {\n",
    "    int x = 10, y = 20;\n",
    "    printf(\"Before swap: a = %d, b = %d\\n\", x, y);\n",
    "    swapByValue(x, y);\n",
    "    swapByReference(&x, &y);\n",
    "    return 0;\n",
    "}"
   ]
  },
  {
   "cell_type": "markdown",
   "metadata": {},
   "source": [
    "### e) Write a program to read a matrix of size m*n."
   ]
  },
  {
   "cell_type": "code",
   "execution_count": 5,
   "metadata": {},
   "outputs": [],
   "source": [
    "/* C program to read a matrix of size m*n */\n",
    "#include <stdio.h>\n",
    "\n",
    "int main() {\n",
    "    int m, n;\n",
    "    printf(\"Enter number of rows: \");\n",
    "    scanf(\"%d\", &m);\n",
    "    printf(\"Enter number of columns: \");\n",
    "    scanf(\"%d\", &n);\n",
    "    int matrix[m][n];\n",
    "    printf(\"Enter elements of the matrix:\\n\");\n",
    "    for(int i = 0; i < m; i++) {\n",
    "        for(int j = 0; j < n; j++) {\n",
    "            scanf(\"%d\", &matrix[i][j]);\n",
    "        }\n",
    "    }\n",
    "    printf(\"Matrix is:\\n\");\n",
    "    for(int i = 0; i < m; i++) {\n",
    "        for(int j = 0; j < n; j++) {\n",
    "            printf(\"%d \", matrix[i][j]);\n",
    "        }\n",
    "        printf(\"\\n\");\n",
    "    }\n",
    "    return 0;\n",
    "}"
   ]
  },
  {
   "cell_type": "markdown",
   "metadata": {},
   "source": [
    "### f) Write a program to print the structure using:\n",
    "• Title\n",
    "• Author\n",
    "• Subject\n",
    "• Book ID"
   ]
  },
  {
   "cell_type": "code",
   "execution_count": 6,
   "metadata": {},
   "outputs": [],
   "source": [
    "/* C program to print structure with book details */\n",
    "#include <stdio.h>\n",
    "\n",
    "struct Book {\n",
    "    char title[100];\n",
    "    char author[100];\n",
    "    char subject[100];\n",
    "    int bookID;\n",
    "};\n",
    "\n",
    "int main() {\n",
    "    struct Book book1;\n",
    "    printf(\"Enter book title: \");\n",
    "    gets(book1.title);\n",
    "    printf(\"Enter author name: \");\n",
    "    gets(book1.author);\n",
    "    printf(\"Enter subject: \");\n",
    "    gets(book1.subject);\n",
    "    printf(\"Enter book ID: \");\n",
    "    scanf(\"%d\", &book1.bookID);\n",
    "\n",
    "    printf(\"\\nBook Details:\\n\");\n",
    "    printf(\"Title: %s\\n\", book1.title);\n",
    "    printf(\"Author: %s\\n\", book1.author);\n",
    "    printf(\"Subject: %s\\n\", book1.subject);\n",
    "    printf(\"Book ID: %d\\n\", book1.bookID);\n",
    "    return 0;\n",
    "}"
   ]
  }
 ],
 "metadata": {
  "kernelspec": {
   "display_name": "Python 3",
   "language": "python",
   "name": "python3"
  },
  "language_info": {
   "codemirror_mode": {
    "name": "ipython",
    "version": 3
   },
   "file_extension": ".py",
   "mimetype": "text/x-python",
   "name": "python",
   "nbconvert_exporter": "python",
   "version": "3.10.9"
  }
 },
 "nbformat": 4,
 "nbformat_minor": 5
}
