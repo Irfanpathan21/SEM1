{
 "cells": [
  {
   "cell_type": "markdown",
   "id": "a0bfa54e",
   "metadata": {},
   "source": [
    "### Linux Commands Notes with Examples"
   ]
  },
  {
   "cell_type": "markdown",
   "id": "896ed7af",
   "metadata": {},
   "source": [
    "#### a. **Basic File and Directory Commands**"
   ]
  },
  {
   "cell_type": "markdown",
   "id": "6c52ada5",
   "metadata": {},
   "source": [
    "- **`pwd`**: Print the current working directory."
   ]
  },
  {
   "cell_type": "code",
   "execution_count": null,
   "id": "0598e55f",
   "metadata": {},
   "outputs": [],
   "source": [
    "pwd\n",
    "# Output: /home/user"
   ]
  },
  {
   "cell_type": "markdown",
   "id": "47476b97",
   "metadata": {},
   "source": [
    "- **`cd`**: Change the current directory."
   ]
  },
  {
   "cell_type": "code",
   "execution_count": null,
   "id": "c769c077",
   "metadata": {},
   "outputs": [],
   "source": [
    "cd /path/to/directory"
   ]
  },
  {
   "cell_type": "markdown",
   "id": "e7d6a638",
   "metadata": {},
   "source": [
    "- **Absolute Path vs Relative Path**:\n",
    "  - Absolute Path: Full path from the root directory (`/`)."
   ]
  },
  {
   "cell_type": "code",
   "execution_count": null,
   "id": "7539df7c",
   "metadata": {},
   "outputs": [],
   "source": [
    "cd /home/user/documents"
   ]
  },
  {
   "cell_type": "markdown",
   "id": "9fd6c67a",
   "metadata": {},
   "source": [
    "  - Relative Path: Path relative to the current directory."
   ]
  },
  {
   "cell_type": "code",
   "execution_count": null,
   "id": "dfc51f52",
   "metadata": {},
   "outputs": [],
   "source": [
    "cd documents"
   ]
  },
  {
   "cell_type": "markdown",
   "id": "2d493ef9",
   "metadata": {},
   "source": [
    "- **`ls`**: List the contents of a directory."
   ]
  },
  {
   "cell_type": "code",
   "execution_count": null,
   "id": "aba68dbc",
   "metadata": {},
   "outputs": [],
   "source": [
    "ls\n",
    "# Output: file1.txt  file2.txt  dir1  dir2"
   ]
  },
  {
   "cell_type": "markdown",
   "id": "9f7f8d20",
   "metadata": {},
   "source": [
    "- **`mkdir`**: Create a new directory."
   ]
  },
  {
   "cell_type": "code",
   "execution_count": null,
   "id": "65f1a9f7",
   "metadata": {},
   "outputs": [],
   "source": [
    "mkdir new_dir"
   ]
  },
  {
   "cell_type": "markdown",
   "id": "4041973b",
   "metadata": {},
   "source": [
    "- **`rmdir`**: Remove an empty directory."
   ]
  },
  {
   "cell_type": "code",
   "execution_count": null,
   "id": "14bf6270",
   "metadata": {},
   "outputs": [],
   "source": [
    "rmdir empty_dir"
   ]
  },
  {
   "cell_type": "markdown",
   "id": "b5b915c3",
   "metadata": {},
   "source": [
    "#### b. **File Manipulation and Viewing Commands**"
   ]
  },
  {
   "cell_type": "markdown",
   "id": "712a4ce8",
   "metadata": {},
   "source": [
    "- **`file`**: Determine the file type."
   ]
  },
  {
   "cell_type": "code",
   "execution_count": null,
   "id": "66b5eeaf",
   "metadata": {},
   "outputs": [],
   "source": [
    "file myfile.txt\n",
    "# Output: myfile.txt: ASCII text"
   ]
  },
  {
   "cell_type": "markdown",
   "id": "d88a157b",
   "metadata": {},
   "source": [
    "- **`touch`**: Create an empty file or update a file's timestamp."
   ]
  },
  {
   "cell_type": "code",
   "execution_count": null,
   "id": "2c152059",
   "metadata": {},
   "outputs": [],
   "source": [
    "touch newfile.txt"
   ]
  },
  {
   "cell_type": "markdown",
   "id": "a5188b43",
   "metadata": {},
   "source": [
    "- **`rm`**: Remove files or directories."
   ]
  },
  {
   "cell_type": "code",
   "execution_count": null,
   "id": "e27317ce",
   "metadata": {},
   "outputs": [],
   "source": [
    "rm file.txt"
   ]
  },
  {
   "cell_type": "markdown",
   "id": "6ec2cecc",
   "metadata": {},
   "source": [
    "- **`cp`**: Copy files or directories."
   ]
  },
  {
   "cell_type": "code",
   "execution_count": null,
   "id": "a62b3e76",
   "metadata": {},
   "outputs": [],
   "source": [
    "cp source.txt destination.txt"
   ]
  },
  {
   "cell_type": "markdown",
   "id": "de1b5abf",
   "metadata": {},
   "source": [
    "- **`mv`**: Move or rename files."
   ]
  },
  {
   "cell_type": "code",
   "execution_count": null,
   "id": "586e23cc",
   "metadata": {},
   "outputs": [],
   "source": [
    "mv old_name.txt new_name.txt"
   ]
  },
  {
   "cell_type": "markdown",
   "id": "669b1c1c",
   "metadata": {},
   "source": [
    "- **`rename`**: Rename files in bulk."
   ]
  },
  {
   "cell_type": "code",
   "execution_count": null,
   "id": "14c70b22",
   "metadata": {},
   "outputs": [],
   "source": [
    "rename 's/.txt/.bak/' *.txt"
   ]
  },
  {
   "cell_type": "markdown",
   "id": "84d4b6c4",
   "metadata": {},
   "source": [
    "- **`head`**: Display the first few lines of a file."
   ]
  },
  {
   "cell_type": "code",
   "execution_count": null,
   "id": "1f0f6cc3",
   "metadata": {},
   "outputs": [],
   "source": [
    "head file.txt"
   ]
  },
  {
   "cell_type": "markdown",
   "id": "2c415812",
   "metadata": {},
   "source": [
    "- **`tail`**: Display the last few lines of a file."
   ]
  },
  {
   "cell_type": "code",
   "execution_count": null,
   "id": "bd38811b",
   "metadata": {},
   "outputs": [],
   "source": [
    "tail file.txt"
   ]
  },
  {
   "cell_type": "markdown",
   "id": "4fd09aa0",
   "metadata": {},
   "source": [
    "- **`cat`**: Concatenate and display file contents."
   ]
  },
  {
   "cell_type": "code",
   "execution_count": null,
   "id": "915d391e",
   "metadata": {},
   "outputs": [],
   "source": [
    "cat file.txt"
   ]
  },
  {
   "cell_type": "markdown",
   "id": "6fa3ab8e",
   "metadata": {},
   "source": [
    "- **`tac`**: Display file contents in reverse order."
   ]
  },
  {
   "cell_type": "code",
   "execution_count": null,
   "id": "eeb9db32",
   "metadata": {},
   "outputs": [],
   "source": [
    "tac file.txt"
   ]
  },
  {
   "cell_type": "markdown",
   "id": "5814af47",
   "metadata": {},
   "source": [
    "- **`more`**: View the content of a file one page at a time."
   ]
  },
  {
   "cell_type": "code",
   "execution_count": null,
   "id": "4f1c7911",
   "metadata": {},
   "outputs": [],
   "source": [
    "more file.txt"
   ]
  },
  {
   "cell_type": "markdown",
   "id": "7da2ce55",
   "metadata": {},
   "source": [
    "- **`less`**: View the content of a file with backward navigation."
   ]
  },
  {
   "cell_type": "code",
   "execution_count": null,
   "id": "339a50ce",
   "metadata": {},
   "outputs": [],
   "source": [
    "less file.txt"
   ]
  },
  {
   "cell_type": "markdown",
   "id": "8262c153",
   "metadata": {},
   "source": [
    "- **`strings`**: Display printable strings in a file."
   ]
  },
  {
   "cell_type": "code",
   "execution_count": null,
   "id": "3b1164bc",
   "metadata": {},
   "outputs": [],
   "source": [
    "strings binary_file"
   ]
  },
  {
   "cell_type": "markdown",
   "id": "5b64dfe9",
   "metadata": {},
   "source": [
    "- **`chmod`**: Change file permissions."
   ]
  },
  {
   "cell_type": "code",
   "execution_count": null,
   "id": "8357cef6",
   "metadata": {},
   "outputs": [],
   "source": [
    "chmod 755 file.sh"
   ]
  },
  {
   "cell_type": "markdown",
   "id": "3d769142",
   "metadata": {},
   "source": [
    "#### c. **Process Management Commands**"
   ]
  },
  {
   "cell_type": "markdown",
   "id": "a66c3425",
   "metadata": {},
   "source": [
    "- **`ps`**: Display information about running processes."
   ]
  },
  {
   "cell_type": "code",
   "execution_count": null,
   "id": "ab04ca45",
   "metadata": {},
   "outputs": [],
   "source": [
    "ps aux"
   ]
  },
  {
   "cell_type": "markdown",
   "id": "923a4933",
   "metadata": {},
   "source": [
    "- **`top`**: Display real-time process information."
   ]
  },
  {
   "cell_type": "code",
   "execution_count": null,
   "id": "df8b9c96",
   "metadata": {},
   "outputs": [],
   "source": [
    "top"
   ]
  },
  {
   "cell_type": "markdown",
   "id": "184c62c0",
   "metadata": {},
   "source": [
    "- **`kill`**: Terminate a process by PID."
   ]
  },
  {
   "cell_type": "code",
   "execution_count": null,
   "id": "41dc61c8",
   "metadata": {},
   "outputs": [],
   "source": [
    "kill 1234"
   ]
  },
  {
   "cell_type": "markdown",
   "id": "1d4afa0f",
   "metadata": {},
   "source": [
    "- **`pkill`**: Terminate processes by name."
   ]
  },
  {
   "cell_type": "code",
   "execution_count": null,
   "id": "175399a2",
   "metadata": {},
   "outputs": [],
   "source": [
    "pkill firefox"
   ]
  },
  {
   "cell_type": "markdown",
   "id": "52e4c074",
   "metadata": {},
   "source": [
    "- **`bg`**: Resume a suspended job in the background."
   ]
  },
  {
   "cell_type": "code",
   "execution_count": null,
   "id": "2e0f51d9",
   "metadata": {},
   "outputs": [],
   "source": [
    "bg %1"
   ]
  },
  {
   "cell_type": "markdown",
   "id": "f2fab784",
   "metadata": {},
   "source": [
    "- **`fg`**: Bring a background job to the foreground."
   ]
  },
  {
   "cell_type": "code",
   "execution_count": null,
   "id": "480e62d9",
   "metadata": {},
   "outputs": [],
   "source": [
    "fg %1"
   ]
  },
  {
   "cell_type": "markdown",
   "id": "fe5a2080",
   "metadata": {},
   "source": [
    "#### d. **Searching Commands**"
   ]
  },
  {
   "cell_type": "markdown",
   "id": "98755000",
   "metadata": {},
   "source": [
    "- **`grep`**: Search for a pattern in a file."
   ]
  },
  {
   "cell_type": "code",
   "execution_count": null,
   "id": "30433c64",
   "metadata": {},
   "outputs": [],
   "source": [
    "grep \"error\" logfile.txt"
   ]
  },
  {
   "cell_type": "markdown",
   "id": "5d77515a",
   "metadata": {},
   "source": [
    "- **`locate`**: Locate files by name."
   ]
  },
  {
   "cell_type": "code",
   "execution_count": null,
   "id": "d515c6a1",
   "metadata": {},
   "outputs": [],
   "source": [
    "locate file.txt"
   ]
  },
  {
   "cell_type": "markdown",
   "id": "d45f9f84",
   "metadata": {},
   "source": [
    "- **`find`**: Search for files in a directory hierarchy."
   ]
  },
  {
   "cell_type": "code",
   "execution_count": null,
   "id": "a8866391",
   "metadata": {},
   "outputs": [],
   "source": [
    "find /home -name \"*.txt\""
   ]
  },
  {
   "cell_type": "markdown",
   "id": "3a23f7d6",
   "metadata": {},
   "source": [
    "#### e. **System Information Commands**"
   ]
  },
  {
   "cell_type": "markdown",
   "id": "0f420333",
   "metadata": {},
   "source": [
    "- **`date`**: Display or set the system date and time."
   ]
  },
  {
   "cell_type": "code",
   "execution_count": null,
   "id": "2f7a7d90",
   "metadata": {},
   "outputs": [],
   "source": [
    "date\n",
    "# Output: Fri Dec 28 14:30:00 UTC 2024"
   ]
  },
  {
   "cell_type": "markdown",
   "id": "e96ad13c",
   "metadata": {},
   "source": [
    "- **`cal`**: Display a calendar."
   ]
  },
  {
   "cell_type": "code",
   "execution_count": null,
   "id": "b6e073ea",
   "metadata": {},
   "outputs": [],
   "source": [
    "cal"
   ]
  },
  {
   "cell_type": "markdown",
   "id": "ebe8e8c9",
   "metadata": {},
   "source": [
    "- **`uptime`**: Show how long the system has been running."
   ]
  },
  {
   "cell_type": "code",
   "execution_count": null,
   "id": "e2da3ea4",
   "metadata": {},
   "outputs": [],
   "source": [
    "uptime"
   ]
  },
  {
   "cell_type": "markdown",
   "id": "d458e10b",
   "metadata": {},
   "source": [
    "- **`w`**: Show who is logged in and what they are doing."
   ]
  },
  {
   "cell_type": "code",
   "execution_count": null,
   "id": "475a54ef",
   "metadata": {},
   "outputs": [],
   "source": [
    "w"
   ]
  },
  {
   "cell_type": "markdown",
   "id": "a1baa5e2",
   "metadata": {},
   "source": [
    "- **`whoami`**: Display the current logged-in user."
   ]
  },
  {
   "cell_type": "code",
   "execution_count": null,
   "id": "17901081",
   "metadata": {},
   "outputs": [],
   "source": [
    "whoami"
   ]
  },
  {
   "cell_type": "markdown",
   "id": "25ef2f3b",
   "metadata": {},
   "source": [
    "- **`finger`**: Display user information."
   ]
  },
  {
   "cell_type": "code",
   "execution_count": null,
   "id": "f8df739e",
   "metadata": {},
   "outputs": [],
   "source": [
    "finger user"
   ]
  },
  {
   "cell_type": "markdown",
   "id": "70ae9f70",
   "metadata": {},
   "source": [
    "- **`uname`**: Show system information."
   ]
  },
  {
   "cell_type": "code",
   "execution_count": null,
   "id": "e8b39865",
   "metadata": {},
   "outputs": [],
   "source": [
    "uname -a"
   ]
  },
  {
   "cell_type": "markdown",
   "id": "427b3eb1",
   "metadata": {},
   "source": [
    "- **`man`**: Display the manual page for a command."
   ]
  },
  {
   "cell_type": "code",
   "execution_count": null,
   "id": "25ee541d",
   "metadata": {},
   "outputs": [],
   "source": [
    "man ls"
   ]
  },
  {
   "cell_type": "markdown",
   "id": "d366cd04",
   "metadata": {},
   "source": [
    "- **`df`**: Display disk space usage."
   ]
  },
  {
   "cell_type": "code",
   "execution_count": null,
   "id": "a9f33ed7",
   "metadata": {},
   "outputs": [],
   "source": [
    "df -h"
   ]
  },
  {
   "cell_type": "markdown",
   "id": "14f9aa63",
   "metadata": {},
   "source": [
    "- **`du`**: Estimate file space usage."
   ]
  },
  {
   "cell_type": "code",
   "execution_count": null,
   "id": "0c79d08a",
   "metadata": {},
   "outputs": [],
   "source": [
    "du -sh directory_name"
   ]
  },
  {
   "cell_type": "markdown",
   "id": "f092c1e7",
   "metadata": {},
   "source": [
    "- **`free`**: Display memory usage."
   ]
  },
  {
   "cell_type": "code",
   "execution_count": null,
   "id": "8f488310",
   "metadata": {},
   "outputs": [],
   "source": [
    "free -h"
   ]
  },
  {
   "cell_type": "markdown",
   "id": "227c439a",
   "metadata": {},
   "source": [
    "- **`whereis`**: Locate binary, source, and manual files for a command."
   ]
  },
  {
   "cell_type": "code",
   "execution_count": null,
   "id": "51f2aae3",
   "metadata": {},
   "outputs": [],
   "source": [
    "whereis python"
   ]
  },
  {
   "cell_type": "markdown",
   "id": "2d3cc157",
   "metadata": {},
   "source": [
    "- **`which`**: Show the full path of a command."
   ]
  },
  {
   "cell_type": "code",
   "execution_count": null,
   "id": "7d586de3",
   "metadata": {},
   "outputs": [],
   "source": [
    "which python"
   ]
  },
  {
   "cell_type": "markdown",
   "id": "e152fdf5",
   "metadata": {},
   "source": [
    "#### f. **Compression Commands**"
   ]
  },
  {
   "cell_type": "markdown",
   "id": "d2c25401",
   "metadata": {},
   "source": [
    "- **`tar`**: Archive files into a `.tar` file."
   ]
  },
  {
   "cell_type": "code",
   "execution_count": null,
   "id": "0ea779bb",
   "metadata": {},
   "outputs": [],
   "source": [
    "tar -cvf archive.tar file1 file2"
   ]
  },
  {
   "cell_type": "markdown",
   "id": "871d7e48",
   "metadata": {},
   "source": [
    "- **`gzip`**: Compress a file using gzip."
   ]
  },
  {
   "cell_type": "code",
   "execution_count": null,
   "id": "41749261",
   "metadata": {},
   "outputs": [],
   "source": [
    "gzip file.txt"
   ]
  },
  {
   "cell_type": "markdown",
   "id": "bbdf0fc6",
   "metadata": {},
   "source": [
    "#### 4. **Working with Linux Desktop and Utilities**"
   ]
  },
  {
   "cell_type": "markdown",
   "id": "93005dda",
   "metadata": {},
   "source": [
    "##### a. **The vi Editor**"
   ]
  },
  {
   "cell_type": "markdown",
   "id": "050e51cf",
   "metadata": {},
   "source": [
    "- **`vi`**: A powerful text editor for Linux.\n",
    "  - Press `i` to enter insert mode.\n",
    "  - Press `Esc` to exit insert mode.\n",
    "  - Press `:wq` to save and quit."
   ]
  },
  {
   "cell_type": "markdown",
   "id": "d0d778c2",
   "metadata": {},
   "source": [
    "##### b. **Graphics User Interface (GUI)**"
   ]
  },
  {
   "cell_type": "markdown",
   "id": "702a37c7",
   "metadata": {},
   "source": [
    "- Linux typically comes with GUIs like GNOME or KDE to interact with the system visually instead of using the command line."
   ]
  },
  {
   "cell_type": "markdown",
   "id": "4c282716",
   "metadata": {},
   "source": [
    "##### c. **Working with the Terminal**"
   ]
  },
  {
   "cell_type": "markdown",
   "id": "c9a4e601",
   "metadata": {},
   "source": [
    "- Terminal is where you execute commands. It provides access to the full power of the system."
   ]
  },
  {
   "cell_type": "markdown",
   "id": "b8fb0a77",
   "metadata": {},
   "source": [
    "##### d. **Adjusting Display Resolution**"
   ]
  },
  {
   "cell_type": "code",
   "execution_count": null,
   "id": "746df1da",
   "metadata": {},
   "outputs": [],
   "source": [
    "xrandr --output HDMI-1 --mode 1920x1080"
   ]
  },
  {
   "cell_type": "markdown",
   "id": "447d0a65",
   "metadata": {},
   "source": [
    "##### e. **Using the Browsers**"
   ]
  },
  {
   "cell_type": "code",
   "execution_count": null,
   "id": "69cf9a75",
   "metadata": {},
   "outputs": [],
   "source": [
    "firefox"
   ]
  },
  {
   "cell_type": "markdown",
   "id": "5ca74fdf",
   "metadata": {},
   "source": [
    "##### f. **Configuring Simple Networking**"
   ]
  },
  {
   "cell_type": "code",
   "execution_count": null,
   "id": "9ca95b21",
   "metadata": {},
   "outputs": [],
   "source": [
    "ifconfig"
   ]
  },
  {
   "cell_type": "markdown",
   "id": "6e95e63a",
   "metadata": {},
   "source": [
    "##### g. **Creating Users and Shares**"
   ]
  },
  {
   "cell_type": "markdown",
   "id": "d3afd3e5",
   "metadata": {},
   "source": [
    "- **Creating a User**:"
   ]
  },
  {
   "cell_type": "code",
   "execution_count": null,
   "id": "5d04f95d",
   "metadata": {},
   "outputs": [],
   "source": [
    "sudo useradd newuser\n",
    "sudo passwd newuser"
   ]
  },
  {
   "cell_type": "markdown",
   "id": "6796e561",
   "metadata": {},
   "source": [
    "- **Creating Shares**: Set up network shares using `Samba` for file sharing."
   ]
  },
  {
   "cell_type": "code",
   "execution_count": null,
   "id": "3547ce56",
   "metadata": {},
   "outputs": [],
   "source": [
    "sudo apt install samba\n",
    "sudo smbpasswd -a user"
   ]
  }
 ],
 "metadata": {},
 "nbformat": 4,
 "nbformat_minor": 5
}
